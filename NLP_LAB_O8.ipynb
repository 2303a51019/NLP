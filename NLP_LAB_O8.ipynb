{
  "nbformat": 4,
  "nbformat_minor": 0,
  "metadata": {
    "colab": {
      "provenance": [],
      "authorship_tag": "ABX9TyP8Ggxc7zZN9ykTjB+FI8gV",
      "include_colab_link": true
    },
    "kernelspec": {
      "name": "python3",
      "display_name": "Python 3"
    },
    "language_info": {
      "name": "python"
    }
  },
  "cells": [
    {
      "cell_type": "markdown",
      "metadata": {
        "id": "view-in-github",
        "colab_type": "text"
      },
      "source": [
        "<a href=\"https://colab.research.google.com/github/2303a51019/NLP/blob/main/NLP_LAB_O8.ipynb\" target=\"_parent\"><img src=\"https://colab.research.google.com/assets/colab-badge.svg\" alt=\"Open In Colab\"/></a>"
      ]
    },
    {
      "cell_type": "code",
      "source": [
        "print(\"Importing libraries...\")\n",
        "import pandas as pd\n",
        "import numpy as np\n",
        "import re\n",
        "import nltk\n",
        "import string\n",
        "from nltk.corpus import stopwords\n",
        "from sklearn.model_selection import train_test_split\n",
        "from sklearn.linear_model import LogisticRegression\n",
        "from sklearn.ensemble import RandomForestClassifier\n",
        "from sklearn.svm import SVC\n",
        "from sklearn.metrics import accuracy_score, precision_score, recall_score, f1_score, classification_report\n",
        "from gensim.models import Word2Vec\n",
        "\n",
        "nltk.download('stopwords')\n",
        "print(\"Libraries imported successfully!\\n\")"
      ],
      "metadata": {
        "colab": {
          "base_uri": "https://localhost:8080/"
        },
        "id": "KRPi7YYBzFWg",
        "outputId": "2d4caffc-52f9-4456-e4b9-6cb564c82b88"
      },
      "execution_count": 10,
      "outputs": [
        {
          "output_type": "stream",
          "name": "stdout",
          "text": [
            "Importing libraries...\n",
            "Libraries imported successfully!\n",
            "\n"
          ]
        },
        {
          "output_type": "stream",
          "name": "stderr",
          "text": [
            "[nltk_data] Downloading package stopwords to /root/nltk_data...\n",
            "[nltk_data]   Package stopwords is already up-to-date!\n"
          ]
        }
      ]
    },
    {
      "cell_type": "markdown",
      "source": [
        "Step 1: Load Dataset"
      ],
      "metadata": {
        "id": "UJ3TSCWYuoLP"
      }
    },
    {
      "cell_type": "code",
      "execution_count": 11,
      "metadata": {
        "id": "x0eFQLwaNBtM",
        "colab": {
          "base_uri": "https://localhost:8080/"
        },
        "outputId": "a74d1d80-c0cd-45e8-d89a-c6148d922336"
      },
      "outputs": [
        {
          "output_type": "stream",
          "name": "stdout",
          "text": [
            "Dataset loaded successfully!\n",
            "Dataset shape: (11370, 5)\n",
            "First 5 rows:\n",
            "    id keyword        location  \\\n",
            "0   0  ablaze             NaN   \n",
            "1   1  ablaze             NaN   \n",
            "2   2  ablaze   New York City   \n",
            "3   3  ablaze  Morgantown, WV   \n",
            "4   4  ablaze             NaN   \n",
            "\n",
            "                                                text  target  \n",
            "0  Communal violence in Bhainsa, Telangana. \"Ston...       1  \n",
            "1  Telangana: Section 144 has been imposed in Bha...       1  \n",
            "2  Arsonist sets cars ablaze at dealership https:...       1  \n",
            "3  Arsonist sets cars ablaze at dealership https:...       1  \n",
            "4  \"Lord Jesus, your love brings freedom and pard...       0   \n",
            "\n"
          ]
        }
      ],
      "source": [
        "\n",
        "data = pd.read_csv(\"/content/sample_data/tweets.csv\")\n",
        "print(\"Dataset loaded successfully!\")\n",
        "print(\"Dataset shape:\", data.shape)\n",
        "print(\"First 5 rows:\\n\", data.head(), \"\\n\")"
      ]
    },
    {
      "cell_type": "markdown",
      "source": [
        "Step 2: Preprocessing"
      ],
      "metadata": {
        "id": "fbq1ZI-0uxfd"
      }
    },
    {
      "cell_type": "code",
      "source": [
        "stop_words = set(stopwords.words('english'))\n",
        "\n",
        "def preprocess_tweet(tweet):\n",
        "    # Lowercase\n",
        "    tweet = tweet.lower()\n",
        "    # Remove URLs\n",
        "    tweet = re.sub(r\"http\\S+|www\\S+|https\\S+\", '', tweet, flags=re.MULTILINE)\n",
        "    # Remove user mentions and hashtags\n",
        "    tweet = re.sub(r'\\@\\w+|\\#','', tweet)\n",
        "    # Remove punctuation\n",
        "    tweet = tweet.translate(str.maketrans('', '', string.punctuation))\n",
        "    # Tokenize\n",
        "    words = tweet.split()\n",
        "    # Remove stopwords\n",
        "    words = [w for w in words if w not in stop_words]\n",
        "    return words\n",
        "\n",
        "data['clean_text'] = data['text'].apply(preprocess_tweet)\n",
        "print(\"Sample preprocessed tweet:\", data['clean_text'].iloc[0], \"\\n\")"
      ],
      "metadata": {
        "colab": {
          "base_uri": "https://localhost:8080/"
        },
        "id": "muojaUNQucHZ",
        "outputId": "ae7a01ea-b0b9-4ec9-f544-7fa9497f45bd"
      },
      "execution_count": 12,
      "outputs": [
        {
          "output_type": "stream",
          "name": "stdout",
          "text": [
            "Sample preprocessed tweet: ['communal', 'violence', 'bhainsa', 'telangana', 'stones', 'pelted', 'muslims', 'houses', 'houses', 'vehicles', 'set', 'ablaze…'] \n",
            "\n"
          ]
        }
      ]
    },
    {
      "cell_type": "markdown",
      "source": [
        "Step 3: Train Word2Vec"
      ],
      "metadata": {
        "id": "HwjTKS5Bu1AN"
      }
    },
    {
      "cell_type": "code",
      "source": [
        "print(\"Training Word2Vec model (skip-gram)...\")\n",
        "w2v_model = Word2Vec(sentences=data['clean_text'], vector_size=100, window=5, min_count=2, sg=1)\n",
        "print(\"Word2Vec training completed!\")\n",
        "print(\"Vocabulary size:\", len(w2v_model.wv.index_to_key), \"\\n\")\n",
        "\n"
      ],
      "metadata": {
        "id": "hK8ZLys-wDkd",
        "colab": {
          "base_uri": "https://localhost:8080/"
        },
        "outputId": "a30349d3-8ed9-4cc0-dd12-5f7732fdf3d9"
      },
      "execution_count": 13,
      "outputs": [
        {
          "output_type": "stream",
          "name": "stdout",
          "text": [
            "Training Word2Vec model (skip-gram)...\n",
            "Word2Vec training completed!\n",
            "Vocabulary size: 10679 \n",
            "\n"
          ]
        }
      ]
    },
    {
      "cell_type": "markdown",
      "source": [
        "Step 4: Convert Tweets → Vectors"
      ],
      "metadata": {
        "id": "IxKhdydqwmzX"
      }
    },
    {
      "cell_type": "code",
      "source": [
        "\n",
        "def tweet_vector(words, model):\n",
        "    word_vecs = []\n",
        "    for word in words:\n",
        "        if word in model.wv:\n",
        "            word_vecs.append(model.wv[word])\n",
        "    if len(word_vecs) == 0:\n",
        "        return np.zeros(model.vector_size)\n",
        "    else:\n",
        "        return np.mean(word_vecs, axis=0)\n",
        "\n",
        "X = np.array([tweet_vector(tweet, w2v_model) for tweet in data['clean_text']])\n",
        "y = data['target'].values\n",
        "\n",
        "print(\"Feature vector shape:\", X.shape)\n",
        "print(\"Example vector (first tweet):\", X[0][:10], \"\\n\")\n",
        "\n"
      ],
      "metadata": {
        "colab": {
          "base_uri": "https://localhost:8080/"
        },
        "id": "-BXpD7XRwpIW",
        "outputId": "a439832e-1d63-4391-b314-619fe4bc1aa4"
      },
      "execution_count": 14,
      "outputs": [
        {
          "output_type": "stream",
          "name": "stdout",
          "text": [
            "Feature vector shape: (11370, 100)\n",
            "Example vector (first tweet): [ 0.09420449  0.17645055  0.05208248  0.03935846  0.10249659 -0.27251661\n",
            " -0.11954924  0.41131532 -0.11774229 -0.0800787 ] \n",
            "\n"
          ]
        }
      ]
    },
    {
      "cell_type": "markdown",
      "source": [
        "Train-test split"
      ],
      "metadata": {
        "id": "P5Pf_JE1zwaG"
      }
    },
    {
      "cell_type": "code",
      "source": [
        "X_train, X_test, y_train, y_test = train_test_split(X, y, test_size=0.2, random_state=42)\n",
        "print(\"Training set size:\", X_train.shape)\n",
        "print(\"Testing set size:\", X_test.shape, \"\\n\")"
      ],
      "metadata": {
        "colab": {
          "base_uri": "https://localhost:8080/"
        },
        "id": "Ia32QxDHzEWQ",
        "outputId": "8973f5db-5adc-49cb-90ed-57c4beab4462"
      },
      "execution_count": 15,
      "outputs": [
        {
          "output_type": "stream",
          "name": "stdout",
          "text": [
            "Training set size: (9096, 100)\n",
            "Testing set size: (2274, 100) \n",
            "\n"
          ]
        }
      ]
    },
    {
      "cell_type": "markdown",
      "source": [
        "Train Logistic Regression"
      ],
      "metadata": {
        "id": "2mj0wgKRz08V"
      }
    },
    {
      "cell_type": "code",
      "source": [
        "lr = LogisticRegression(max_iter=1000)\n",
        "lr.fit(X_train, y_train)\n",
        "y_pred_lr = lr.predict(X_test)\n",
        "print(\"Logistic Regression Training Completed!\")\n",
        "print(\"Accuracy:\", accuracy_score(y_test, y_pred_lr))\n",
        "print(\"Precision:\", precision_score(y_test, y_pred_lr))\n",
        "print(\"Recall:\", recall_score(y_test, y_pred_lr))\n",
        "print(\"F1 Score:\", f1_score(y_test, y_pred_lr))\n",
        "print(\"\\nClassification Report (Logistic Regression):\\n\", classification_report(y_test, y_pred_lr), \"\\n\")\n"
      ],
      "metadata": {
        "colab": {
          "base_uri": "https://localhost:8080/"
        },
        "id": "slNns-vVz1x9",
        "outputId": "3005a9c7-bee1-47ae-cbb0-95e6c31d6b57"
      },
      "execution_count": 16,
      "outputs": [
        {
          "output_type": "stream",
          "name": "stdout",
          "text": [
            "Logistic Regression Training Completed!\n",
            "Accuracy: 0.8438874230430958\n",
            "Precision: 0.7808219178082192\n",
            "Recall: 0.14393939393939395\n",
            "F1 Score: 0.24307036247334754\n",
            "\n",
            "Classification Report (Logistic Regression):\n",
            "               precision    recall  f1-score   support\n",
            "\n",
            "           0       0.85      0.99      0.91      1878\n",
            "           1       0.78      0.14      0.24       396\n",
            "\n",
            "    accuracy                           0.84      2274\n",
            "   macro avg       0.81      0.57      0.58      2274\n",
            "weighted avg       0.83      0.84      0.80      2274\n",
            " \n",
            "\n"
          ]
        }
      ]
    },
    {
      "cell_type": "markdown",
      "source": [
        "Train Random Forest"
      ],
      "metadata": {
        "id": "mORGZjC8z76N"
      }
    },
    {
      "cell_type": "code",
      "source": [
        "rf = RandomForestClassifier(n_estimators=100, random_state=42)\n",
        "rf.fit(X_train, y_train)\n",
        "y_pred_rf = rf.predict(X_test)\n",
        "print(\"Random Forest Training Completed!\")\n",
        "print(\"Accuracy:\", accuracy_score(y_test, y_pred_rf))\n",
        "print(\"Precision:\", precision_score(y_test, y_pred_rf))\n",
        "print(\"Recall:\", recall_score(y_test, y_pred_rf))\n",
        "print(\"F1 Score:\", f1_score(y_test, y_pred_rf))\n",
        "print(\"\\nClassification Report (Random Forest):\\n\", classification_report(y_test, y_pred_rf), \"\\n\")\n"
      ],
      "metadata": {
        "colab": {
          "base_uri": "https://localhost:8080/"
        },
        "id": "pblZYVyM0Czs",
        "outputId": "5134f236-e165-4d67-b035-674242d3c75e"
      },
      "execution_count": 17,
      "outputs": [
        {
          "output_type": "stream",
          "name": "stdout",
          "text": [
            "Random Forest Training Completed!\n",
            "Accuracy: 0.8742304309586632\n",
            "Precision: 0.7370689655172413\n",
            "Recall: 0.4318181818181818\n",
            "F1 Score: 0.5445859872611465\n",
            "\n",
            "Classification Report (Random Forest):\n",
            "               precision    recall  f1-score   support\n",
            "\n",
            "           0       0.89      0.97      0.93      1878\n",
            "           1       0.74      0.43      0.54       396\n",
            "\n",
            "    accuracy                           0.87      2274\n",
            "   macro avg       0.81      0.70      0.74      2274\n",
            "weighted avg       0.86      0.87      0.86      2274\n",
            " \n",
            "\n"
          ]
        }
      ]
    },
    {
      "cell_type": "markdown",
      "source": [
        "Train SVM"
      ],
      "metadata": {
        "id": "lIVMvqqj0HfP"
      }
    },
    {
      "cell_type": "code",
      "source": [
        "svm = SVC(kernel='linear')\n",
        "svm.fit(X_train, y_train)\n",
        "y_pred_svm = svm.predict(X_test)\n",
        "print(\"SVM Training Completed!\")\n",
        "print(\"Accuracy:\", accuracy_score(y_test, y_pred_svm))\n",
        "print(\"Precision:\", precision_score(y_test, y_pred_svm))\n",
        "print(\"Recall:\", recall_score(y_test, y_pred_svm))\n",
        "print(\"F1 Score:\", f1_score(y_test, y_pred_svm))\n",
        "print(\"\\nClassification Report (SVM):\\n\", classification_report(y_test, y_pred_svm), \"\\n\")\n"
      ],
      "metadata": {
        "colab": {
          "base_uri": "https://localhost:8080/"
        },
        "id": "_d77lVWf0KPM",
        "outputId": "72f1b157-aae4-4f8b-d395-9995bade2634"
      },
      "execution_count": 18,
      "outputs": [
        {
          "output_type": "stream",
          "name": "stdout",
          "text": [
            "SVM Training Completed!\n",
            "Accuracy: 0.8372911169744943\n",
            "Precision: 0.825\n",
            "Recall: 0.08333333333333333\n",
            "F1 Score: 0.15137614678899083\n",
            "\n",
            "Classification Report (SVM):\n",
            "               precision    recall  f1-score   support\n",
            "\n",
            "           0       0.84      1.00      0.91      1878\n",
            "           1       0.82      0.08      0.15       396\n",
            "\n",
            "    accuracy                           0.84      2274\n",
            "   macro avg       0.83      0.54      0.53      2274\n",
            "weighted avg       0.84      0.84      0.78      2274\n",
            " \n",
            "\n"
          ]
        }
      ]
    },
    {
      "cell_type": "markdown",
      "source": [
        "Compare results"
      ],
      "metadata": {
        "id": "k8FfEGXZ0OUk"
      }
    },
    {
      "cell_type": "code",
      "source": [
        "results = {\n",
        "    \"Logistic Regression\": f1_score(y_test, y_pred_lr),\n",
        "    \"Random Forest\": f1_score(y_test, y_pred_rf),\n",
        "    \"SVM\": f1_score(y_test, y_pred_svm)\n",
        "}\n",
        "for model, score in results.items():\n",
        "    print(f\"{model}: F1 Score = {score:.4f}\")\n",
        "\n",
        "best_model = max(results, key=results.get)\n",
        "print(\"\\nBest Model with Word2Vec embeddings:\", best_model)\n",
        "\n",
        "if best_model == \"SVM\":\n",
        "    print(\"Reason: SVM often performs better with dense word embeddings as it finds a good separating hyperplane in high-dimensional space.\")\n",
        "elif best_model == \"Logistic Regression\":\n",
        "    print(\"Reason: Logistic Regression works well with continuous dense embeddings and avoids overfitting on smaller datasets.\")\n",
        "else:\n",
        "    print(\"Reason: Random Forest can capture non-linearities but sometimes struggles with high-dimensional embeddings.\")"
      ],
      "metadata": {
        "colab": {
          "base_uri": "https://localhost:8080/"
        },
        "id": "j1D_bpef0R1k",
        "outputId": "e2472d16-6ef1-487a-829b-477dcc7f23a3"
      },
      "execution_count": 19,
      "outputs": [
        {
          "output_type": "stream",
          "name": "stdout",
          "text": [
            "Logistic Regression: F1 Score = 0.2431\n",
            "Random Forest: F1 Score = 0.5446\n",
            "SVM: F1 Score = 0.1514\n",
            "\n",
            "Best Model with Word2Vec embeddings: Random Forest\n",
            "Reason: Random Forest can capture non-linearities but sometimes struggles with high-dimensional embeddings.\n"
          ]
        }
      ]
    }
  ]
}